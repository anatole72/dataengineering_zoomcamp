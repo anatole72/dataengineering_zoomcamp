{
  "nbformat": 4,
  "nbformat_minor": 0,
  "metadata": {
    "colab": {
      "provenance": [],
      "gpuType": "T4"
    },
    "kernelspec": {
      "name": "python3",
      "display_name": "Python 3"
    },
    "language_info": {
      "name": "python"
    },
    "accelerator": "GPU"
  },
  "cells": [
    {
      "cell_type": "code",
      "execution_count": 1,
      "metadata": {
        "colab": {
          "base_uri": "https://localhost:8080/"
        },
        "id": "H2PWwgl0Tlos",
        "outputId": "046c77a9-6d05-4915-f484-ad5819be0748"
      },
      "outputs": [
        {
          "output_type": "stream",
          "name": "stdout",
          "text": [
            "\r0% [Working]\r            \rGet:1 https://cloud.r-project.org/bin/linux/ubuntu jammy-cran40/ InRelease [3,632 B]\n",
            "Get:2 https://developer.download.nvidia.com/compute/cuda/repos/ubuntu2204/x86_64  InRelease [1,581 B]\n",
            "Get:3 http://security.ubuntu.com/ubuntu jammy-security InRelease [129 kB]\n",
            "Hit:4 http://archive.ubuntu.com/ubuntu jammy InRelease\n",
            "Get:5 https://r2u.stat.illinois.edu/ubuntu jammy InRelease [6,555 B]\n",
            "Get:6 http://archive.ubuntu.com/ubuntu jammy-updates InRelease [128 kB]\n",
            "Get:7 https://cloud.r-project.org/bin/linux/ubuntu jammy-cran40/ Packages [68.9 kB]\n",
            "Get:8 https://developer.download.nvidia.com/compute/cuda/repos/ubuntu2204/x86_64  Packages [1,338 kB]\n",
            "Get:9 http://archive.ubuntu.com/ubuntu jammy-backports InRelease [127 kB]\n",
            "Hit:10 https://ppa.launchpadcontent.net/deadsnakes/ppa/ubuntu jammy InRelease\n",
            "Get:11 https://r2u.stat.illinois.edu/ubuntu jammy/main amd64 Packages [2,665 kB]\n",
            "Hit:12 https://ppa.launchpadcontent.net/graphics-drivers/ppa/ubuntu jammy InRelease\n",
            "Get:13 http://security.ubuntu.com/ubuntu jammy-security/main amd64 Packages [2,652 kB]\n",
            "Hit:14 https://ppa.launchpadcontent.net/ubuntugis/ppa/ubuntu jammy InRelease\n",
            "Get:15 http://archive.ubuntu.com/ubuntu jammy-updates/main amd64 Packages [2,958 kB]\n",
            "Get:16 https://r2u.stat.illinois.edu/ubuntu jammy/main all Packages [8,708 kB]\n",
            "Get:17 http://security.ubuntu.com/ubuntu jammy-security/restricted amd64 Packages [3,694 kB]\n",
            "Get:18 http://security.ubuntu.com/ubuntu jammy-security/universe amd64 Packages [1,235 kB]\n",
            "Get:19 http://archive.ubuntu.com/ubuntu jammy-updates/universe amd64 Packages [1,533 kB]\n",
            "Fetched 25.2 MB in 7s (3,713 kB/s)\n",
            "Reading package lists... Done\n",
            "W: Skipping acquire of configured file 'main/source/Sources' as repository 'https://r2u.stat.illinois.edu/ubuntu jammy InRelease' does not seem to provide it (sources.list entry misspelt?)\n",
            "Collecting pyspark==3.3.2\n",
            "  Downloading pyspark-3.3.2.tar.gz (281.4 MB)\n",
            "\u001b[2K     \u001b[90m━━━━━━━━━━━━━━━━━━━━━━━━━━━━━━━━━━━━━━━━\u001b[0m \u001b[32m281.4/281.4 MB\u001b[0m \u001b[31m2.2 MB/s\u001b[0m eta \u001b[36m0:00:00\u001b[0m\n",
            "\u001b[?25h  Preparing metadata (setup.py) ... \u001b[?25l\u001b[?25hdone\n",
            "Collecting py4j==0.10.9.5 (from pyspark==3.3.2)\n",
            "  Downloading py4j-0.10.9.5-py2.py3-none-any.whl.metadata (1.5 kB)\n",
            "Downloading py4j-0.10.9.5-py2.py3-none-any.whl (199 kB)\n",
            "\u001b[2K   \u001b[90m━━━━━━━━━━━━━━━━━━━━━━━━━━━━━━━━━━━━━━━━\u001b[0m \u001b[32m199.7/199.7 kB\u001b[0m \u001b[31m20.7 MB/s\u001b[0m eta \u001b[36m0:00:00\u001b[0m\n",
            "\u001b[?25hBuilding wheels for collected packages: pyspark\n",
            "  Building wheel for pyspark (setup.py) ... \u001b[?25l\u001b[?25hdone\n",
            "  Created wheel for pyspark: filename=pyspark-3.3.2-py2.py3-none-any.whl size=281824006 sha256=e49499fdc6ad9665c8e8c0b5528667a85ad56da9e662e8fbebd3395cac6b005b\n",
            "  Stored in directory: /root/.cache/pip/wheels/47/69/84/c7c7776e2287a654536f5cba7dc54c904c03aa2c3e29206f0f\n",
            "Successfully built pyspark\n",
            "Installing collected packages: py4j, pyspark\n",
            "  Attempting uninstall: py4j\n",
            "    Found existing installation: py4j 0.10.9.7\n",
            "    Uninstalling py4j-0.10.9.7:\n",
            "      Successfully uninstalled py4j-0.10.9.7\n",
            "  Attempting uninstall: pyspark\n",
            "    Found existing installation: pyspark 3.5.5\n",
            "    Uninstalling pyspark-3.5.5:\n",
            "      Successfully uninstalled pyspark-3.5.5\n",
            "\u001b[31mERROR: pip's dependency resolver does not currently take into account all the packages that are installed. This behaviour is the source of the following dependency conflicts.\n",
            "google-spark-connect 0.5.2 requires pyspark>=3.5, but you have pyspark 3.3.2 which is incompatible.\u001b[0m\u001b[31m\n",
            "\u001b[0mSuccessfully installed py4j-0.10.9.5 pyspark-3.3.2\n"
          ]
        }
      ],
      "source": [
        "# Устанавливаем Java и PySpark в Colab\n",
        "!apt-get update\n",
        "!apt-get install openjdk-11-jdk-headless -qq > /dev/null\n",
        "!pip install pyspark==3.3.2\n",
        "\n",
        "import os\n",
        "import sys\n",
        "\n",
        "# Устанавливаем JAVA_HOME для Colab\n",
        "os.environ['JAVA_HOME'] = '/usr/lib/jvm/java-11-openjdk-amd64'\n",
        "\n",
        "# Импортируем PySpark\n",
        "import pyspark\n",
        "from pyspark.sql import SparkSession\n",
        "from pyspark.sql import types\n",
        "from pyspark.sql import functions as F\n",
        "\n",
        "# Создаем SparkSession\n",
        "spark = SparkSession.builder \\\n",
        "    .master(\"local[*]\") \\\n",
        "    .appName('test') \\\n",
        "    .getOrCreate()"
      ]
    },
    {
      "cell_type": "code",
      "source": [
        "!pip install pyspark>=3.5"
      ],
      "metadata": {
        "id": "jeQXla8OUUwf"
      },
      "execution_count": 2,
      "outputs": []
    },
    {
      "cell_type": "code",
      "source": [
        "spark.version"
      ],
      "metadata": {
        "colab": {
          "base_uri": "https://localhost:8080/",
          "height": 36
        },
        "id": "ZeF1RM_RUYoj",
        "outputId": "80dcb375-a46d-4189-a063-72be0613157d"
      },
      "execution_count": 3,
      "outputs": [
        {
          "output_type": "execute_result",
          "data": {
            "text/plain": [
              "'3.3.2'"
            ],
            "application/vnd.google.colaboratory.intrinsic+json": {
              "type": "string"
            }
          },
          "metadata": {},
          "execution_count": 3
        }
      ]
    },
    {
      "cell_type": "code",
      "source": [
        "!wget https://d37ci6vzurychx.cloudfront.net/trip-data/yellow_tripdata_2024-10.parquet"
      ],
      "metadata": {
        "colab": {
          "base_uri": "https://localhost:8080/"
        },
        "id": "Zmo5pA6cUiBN",
        "outputId": "338244d4-1ee6-466e-a202-00537346fdc4"
      },
      "execution_count": 4,
      "outputs": [
        {
          "output_type": "stream",
          "name": "stdout",
          "text": [
            "--2025-03-04 08:55:11--  https://d37ci6vzurychx.cloudfront.net/trip-data/yellow_tripdata_2024-10.parquet\n",
            "Resolving d37ci6vzurychx.cloudfront.net (d37ci6vzurychx.cloudfront.net)... 52.85.39.97, 52.85.39.153, 52.85.39.117, ...\n",
            "Connecting to d37ci6vzurychx.cloudfront.net (d37ci6vzurychx.cloudfront.net)|52.85.39.97|:443... connected.\n",
            "HTTP request sent, awaiting response... 200 OK\n",
            "Length: 64346071 (61M) [binary/octet-stream]\n",
            "Saving to: ‘yellow_tripdata_2024-10.parquet’\n",
            "\n",
            "yellow_tripdata_202 100%[===================>]  61.36M   235MB/s    in 0.3s    \n",
            "\n",
            "2025-03-04 08:55:11 (235 MB/s) - ‘yellow_tripdata_2024-10.parquet’ saved [64346071/64346071]\n",
            "\n"
          ]
        }
      ]
    },
    {
      "cell_type": "code",
      "source": [
        "df = spark.read.parquet('yellow_tripdata_2024-10.parquet')"
      ],
      "metadata": {
        "id": "w8xapMx-Ub-l"
      },
      "execution_count": 13,
      "outputs": []
    },
    {
      "cell_type": "code",
      "source": [
        "df = df.repartition(4)"
      ],
      "metadata": {
        "id": "gWsD7KmfUpb7"
      },
      "execution_count": 14,
      "outputs": []
    },
    {
      "cell_type": "code",
      "source": [
        "df.write.parquet('yellow/2024/10/', mode='overwrite')"
      ],
      "metadata": {
        "id": "jNMGeLtjUr6M"
      },
      "execution_count": 15,
      "outputs": []
    },
    {
      "cell_type": "code",
      "source": [
        "!ls -lh yellow/2024/10/"
      ],
      "metadata": {
        "colab": {
          "base_uri": "https://localhost:8080/"
        },
        "id": "C-3RC6uoUvtT",
        "outputId": "735ab2bd-52e2-4c2b-8440-1c41170a9349"
      },
      "execution_count": 16,
      "outputs": [
        {
          "output_type": "stream",
          "name": "stdout",
          "text": [
            "total 100M\n",
            "-rw-r--r-- 1 root root 25M Mar  4 08:57 part-00000-6475ccd2-a958-4e86-8605-e5b8c6d2ed16-c000.snappy.parquet\n",
            "-rw-r--r-- 1 root root 25M Mar  4 08:57 part-00001-6475ccd2-a958-4e86-8605-e5b8c6d2ed16-c000.snappy.parquet\n",
            "-rw-r--r-- 1 root root 25M Mar  4 08:57 part-00002-6475ccd2-a958-4e86-8605-e5b8c6d2ed16-c000.snappy.parquet\n",
            "-rw-r--r-- 1 root root 25M Mar  4 08:57 part-00003-6475ccd2-a958-4e86-8605-e5b8c6d2ed16-c000.snappy.parquet\n",
            "-rw-r--r-- 1 root root   0 Mar  4 08:57 _SUCCESS\n"
          ]
        }
      ]
    },
    {
      "cell_type": "code",
      "source": [
        "df.show()"
      ],
      "metadata": {
        "colab": {
          "base_uri": "https://localhost:8080/"
        },
        "id": "RRcdxNzUUzRx",
        "outputId": "a9804f7c-a428-4556-87ab-c40c7daefad7"
      },
      "execution_count": 17,
      "outputs": [
        {
          "output_type": "stream",
          "name": "stdout",
          "text": [
            "+--------+--------------------+---------------------+---------------+-------------+----------+------------------+------------+------------+------------+-----------+-----+-------+----------+------------+---------------------+------------+--------------------+-----------+\n",
            "|VendorID|tpep_pickup_datetime|tpep_dropoff_datetime|passenger_count|trip_distance|RatecodeID|store_and_fwd_flag|PULocationID|DOLocationID|payment_type|fare_amount|extra|mta_tax|tip_amount|tolls_amount|improvement_surcharge|total_amount|congestion_surcharge|Airport_fee|\n",
            "+--------+--------------------+---------------------+---------------+-------------+----------+------------------+------------+------------+------------+-----------+-----+-------+----------+------------+---------------------+------------+--------------------+-----------+\n",
            "|       2| 2024-10-04 23:19:27|  2024-10-04 23:43:28|              1|         6.07|         1|                 N|         229|         231|           1|       31.0|  1.0|    0.5|       4.0|         0.0|                  1.0|        40.0|                 2.5|        0.0|\n",
            "|       2| 2024-10-12 22:54:01|  2024-10-12 23:18:59|              1|        10.15|         1|                 N|         138|          25|           1|       41.5|  6.0|    0.5|       9.8|         0.0|                  1.0|       60.55|                 0.0|       1.75|\n",
            "|       2| 2024-10-12 17:07:34|  2024-10-12 17:19:01|              2|         4.34|         1|                 N|         132|         132|           4|       19.1|  0.0|    0.5|       0.0|         0.0|                  1.0|       22.35|                 0.0|       1.75|\n",
            "|       2| 2024-10-04 14:17:41|  2024-10-04 14:26:47|              1|          1.1|         1|                 N|         113|         211|           1|        9.3|  0.0|    0.5|      2.66|         0.0|                  1.0|       15.96|                 2.5|        0.0|\n",
            "|       2| 2024-10-14 16:35:10|  2024-10-14 16:51:20|              1|         1.27|         1|                 N|         170|          48|           1|       14.9|  0.0|    0.5|      1.75|         0.0|                  1.0|       20.65|                 2.5|        0.0|\n",
            "|       2| 2024-10-01 11:17:28|  2024-10-01 11:32:18|              1|         4.63|         1|                 N|         231|         170|           1|       21.9|  0.0|    0.5|      5.18|         0.0|                  1.0|       31.08|                 2.5|        0.0|\n",
            "|       2| 2024-10-17 17:41:20|  2024-10-17 17:58:23|              1|         1.21|         1|                 N|         141|         163|           1|       14.9|  2.5|    0.5|      4.28|         0.0|                  1.0|       25.68|                 2.5|        0.0|\n",
            "|       2| 2024-10-16 13:20:09|  2024-10-16 13:34:44|              1|         1.65|         1|                 N|         249|         158|           1|       14.2|  0.0|    0.5|      3.64|         0.0|                  1.0|       21.84|                 2.5|        0.0|\n",
            "|       2| 2024-10-04 19:13:00|  2024-10-04 19:35:18|              1|         5.42|         1|                 N|          48|         263|           1|       27.5|  2.5|    0.5|      3.74|         0.0|                  1.0|       37.74|                 2.5|        0.0|\n",
            "|       2| 2024-10-11 14:43:27|  2024-10-11 15:05:24|              3|          2.5|         1|                 N|         211|         230|           1|       19.8|  0.0|    0.5|      4.76|         0.0|                  1.0|       28.56|                 2.5|        0.0|\n",
            "|       2| 2024-10-11 10:56:37|  2024-10-11 11:30:22|              1|          7.1|         1|                 N|         237|          80|           1|       38.0|  0.0|    0.5|       5.0|         0.0|                  1.0|        47.0|                 2.5|        0.0|\n",
            "|       2| 2024-10-01 15:47:00|  2024-10-01 15:54:13|              1|         1.08|         1|                 N|         151|         239|           1|        9.3|  0.0|    0.5|      2.66|         0.0|                  1.0|       15.96|                 2.5|        0.0|\n",
            "|       2| 2024-10-18 08:54:26|  2024-10-18 09:14:07|              1|         2.16|         1|                 N|         161|         239|           1|       18.4|  0.0|    0.5|       2.0|         0.0|                  1.0|        24.4|                 2.5|        0.0|\n",
            "|       1| 2024-10-09 14:31:50|  2024-10-09 14:46:46|              1|          0.8|         1|                 N|         164|         170|           1|       12.8|  2.5|    0.5|      3.35|         0.0|                  1.0|       20.15|                 2.5|        0.0|\n",
            "|       2| 2024-10-02 07:40:58|  2024-10-02 07:56:22|              4|         2.59|         1|                 N|         162|         113|           1|       15.6|  0.0|    0.5|       0.0|         0.0|                  1.0|        19.6|                 2.5|        0.0|\n",
            "|       2| 2024-10-09 18:55:48|  2024-10-09 19:14:14|              1|         1.93|         1|                 N|          68|         211|           2|       16.3|  2.5|    0.5|       0.0|         0.0|                  1.0|        22.8|                 2.5|        0.0|\n",
            "|       2| 2024-10-19 19:23:25|  2024-10-19 19:50:54|              2|         2.58|         1|                 N|         231|         186|           1|       23.3|  0.0|    0.5|      5.46|         0.0|                  1.0|       32.76|                 2.5|        0.0|\n",
            "|       2| 2024-10-19 20:12:01|  2024-10-19 20:35:56|              1|         4.59|         1|                 N|         237|         112|           1|       26.1|  1.0|    0.5|       5.0|         0.0|                  1.0|        36.1|                 2.5|        0.0|\n",
            "|       1| 2024-10-15 21:09:51|  2024-10-15 21:17:05|              1|          1.0|         1|                 N|         113|         234|           1|        7.9|  3.5|    0.5|       2.0|         0.0|                  1.0|        14.9|                 2.5|        0.0|\n",
            "|       2| 2024-10-18 21:04:50|  2024-10-18 21:12:21|              1|         1.07|         1|                 N|         237|         229|           1|        9.3|  1.0|    0.5|       2.0|         0.0|                  1.0|        16.3|                 2.5|        0.0|\n",
            "+--------+--------------------+---------------------+---------------+-------------+----------+------------------+------------+------------+------------+-----------+-----+-------+----------+------------+---------------------+------------+--------------------+-----------+\n",
            "only showing top 20 rows\n",
            "\n"
          ]
        }
      ]
    },
    {
      "cell_type": "code",
      "source": [
        "df.createOrReplaceTempView('yellow_2024_10')"
      ],
      "metadata": {
        "id": "uHxw7gVaU3EU"
      },
      "execution_count": 18,
      "outputs": []
    },
    {
      "cell_type": "code",
      "source": [
        "spark.sql(\"\"\"\n",
        "    SELECT COUNT(*) AS trip_count\n",
        "    FROM yellow_2024_10\n",
        "    WHERE CAST(tpep_pickup_datetime AS DATE) = '2024-10-15'\n",
        "\"\"\").show()"
      ],
      "metadata": {
        "colab": {
          "base_uri": "https://localhost:8080/"
        },
        "id": "CoqXfWe6U6pM",
        "outputId": "cfff0eb5-d28b-48e2-c5a9-b0e56c15dbc5"
      },
      "execution_count": 20,
      "outputs": [
        {
          "output_type": "stream",
          "name": "stdout",
          "text": [
            "+----------+\n",
            "|trip_count|\n",
            "+----------+\n",
            "|    128893|\n",
            "+----------+\n",
            "\n"
          ]
        }
      ]
    },
    {
      "cell_type": "code",
      "source": [
        "spark.sql(\"\"\"\n",
        "SELECT\n",
        "    MAX((CAST(tpep_dropoff_datetime AS LONG) - CAST(tpep_pickup_datetime AS LONG)) / 3600) AS duration\n",
        "FROM\n",
        "    yellow_2024_10;\n",
        "\"\"\").show()"
      ],
      "metadata": {
        "colab": {
          "base_uri": "https://localhost:8080/"
        },
        "id": "eDFwCvjhU-n0",
        "outputId": "7482f29b-9247-468a-a2a1-5e993f47440a"
      },
      "execution_count": 21,
      "outputs": [
        {
          "output_type": "stream",
          "name": "stdout",
          "text": [
            "+------------------+\n",
            "|          duration|\n",
            "+------------------+\n",
            "|162.61777777777777|\n",
            "+------------------+\n",
            "\n"
          ]
        }
      ]
    },
    {
      "cell_type": "code",
      "source": [
        "\n",
        "from pyspark.sql.functions import col, max, unix_timestamp, round\n",
        "\n",
        "\n",
        "result = spark.table(\"yellow_2024_10\") \\\n",
        "    .select(\n",
        "        round(\n",
        "            (unix_timestamp(\"tpep_dropoff_datetime\") - unix_timestamp(\"tpep_pickup_datetime\")) / 3600,\n",
        "            2\n",
        "        ).alias(\"duration\")\n",
        "    ) \\\n",
        "    .agg(max(\"duration\").alias(\"max_duration\"))\n",
        "\n",
        "result.show()\n"
      ],
      "metadata": {
        "colab": {
          "base_uri": "https://localhost:8080/"
        },
        "id": "iLrAl4fKVJo-",
        "outputId": "7d570d85-b1ad-4602-d724-cfe631435633"
      },
      "execution_count": 22,
      "outputs": [
        {
          "output_type": "stream",
          "name": "stdout",
          "text": [
            "+------------+\n",
            "|max_duration|\n",
            "+------------+\n",
            "|      162.62|\n",
            "+------------+\n",
            "\n"
          ]
        }
      ]
    },
    {
      "cell_type": "code",
      "source": [
        "df.printSchema()"
      ],
      "metadata": {
        "colab": {
          "base_uri": "https://localhost:8080/"
        },
        "id": "_zlgpmR5Vemk",
        "outputId": "4290d349-acf7-44e8-83ed-ec4bac1cf551"
      },
      "execution_count": null,
      "outputs": [
        {
          "output_type": "stream",
          "name": "stdout",
          "text": [
            "root\n",
            " |-- VendorID: integer (nullable = true)\n",
            " |-- tpep_pickup_datetime: timestamp (nullable = true)\n",
            " |-- tpep_dropoff_datetime: timestamp (nullable = true)\n",
            " |-- passenger_count: long (nullable = true)\n",
            " |-- trip_distance: double (nullable = true)\n",
            " |-- RatecodeID: long (nullable = true)\n",
            " |-- store_and_fwd_flag: string (nullable = true)\n",
            " |-- PULocationID: integer (nullable = true)\n",
            " |-- DOLocationID: integer (nullable = true)\n",
            " |-- payment_type: long (nullable = true)\n",
            " |-- fare_amount: double (nullable = true)\n",
            " |-- extra: double (nullable = true)\n",
            " |-- mta_tax: double (nullable = true)\n",
            " |-- tip_amount: double (nullable = true)\n",
            " |-- tolls_amount: double (nullable = true)\n",
            " |-- improvement_surcharge: double (nullable = true)\n",
            " |-- total_amount: double (nullable = true)\n",
            " |-- congestion_surcharge: double (nullable = true)\n",
            " |-- Airport_fee: double (nullable = true)\n",
            "\n"
          ]
        }
      ]
    },
    {
      "cell_type": "code",
      "source": [
        "zones_schema = types.StructType([\n",
        "    types.StructField('LocationID', types.IntegerType(), True),\n",
        "    types.StructField('Borough', types.StringType(), True),\n",
        "    types.StructField('Zone', types.StringType(), True),\n",
        "    types.StructField('service_zone', types.StringType(), True)\n",
        "])"
      ],
      "metadata": {
        "id": "l74SGsz8VjyM"
      },
      "execution_count": null,
      "outputs": []
    },
    {
      "cell_type": "code",
      "source": [
        "!wget https://d37ci6vzurychx.cloudfront.net/misc/taxi_zone_lookup.csv"
      ],
      "metadata": {
        "colab": {
          "base_uri": "https://localhost:8080/"
        },
        "id": "JqeARc1qV4Cm",
        "outputId": "dc68fefa-e553-4f3b-b30a-101dcb7b415f"
      },
      "execution_count": null,
      "outputs": [
        {
          "output_type": "stream",
          "name": "stdout",
          "text": [
            "--2025-03-03 15:10:15--  https://d37ci6vzurychx.cloudfront.net/misc/taxi_zone_lookup.csv\n",
            "Resolving d37ci6vzurychx.cloudfront.net (d37ci6vzurychx.cloudfront.net)... 52.85.39.117, 52.85.39.65, 52.85.39.153, ...\n",
            "Connecting to d37ci6vzurychx.cloudfront.net (d37ci6vzurychx.cloudfront.net)|52.85.39.117|:443... connected.\n",
            "HTTP request sent, awaiting response... 200 OK\n",
            "Length: 12331 (12K) [text/csv]\n",
            "Saving to: ‘taxi_zone_lookup.csv’\n",
            "\n",
            "\rtaxi_zone_lookup.cs   0%[                    ]       0  --.-KB/s               \rtaxi_zone_lookup.cs 100%[===================>]  12.04K  --.-KB/s    in 0s      \n",
            "\n",
            "2025-03-03 15:10:16 (299 MB/s) - ‘taxi_zone_lookup.csv’ saved [12331/12331]\n",
            "\n"
          ]
        }
      ]
    },
    {
      "cell_type": "code",
      "source": [
        "df_zones = spark.read.option(\"header\", \"true\").schema(zones_schema).csv('taxi_zone_lookup.csv')"
      ],
      "metadata": {
        "id": "4MMX5WF_Vm4t"
      },
      "execution_count": null,
      "outputs": []
    },
    {
      "cell_type": "code",
      "source": [
        "df_zones.createOrReplaceTempView('zones')"
      ],
      "metadata": {
        "id": "w_j89VuQWQ0c"
      },
      "execution_count": null,
      "outputs": []
    },
    {
      "cell_type": "code",
      "source": [
        "spark.sql(\"\"\"\n",
        "SELECT\n",
        "    zones.Zone AS pickup_location_zone,\n",
        "    COUNT(1)\n",
        "FROM\n",
        "    yellow_2024_10 yellow LEFT JOIN zones ON yellow.PULocationID = zones.LocationID\n",
        "GROUP BY\n",
        "    1\n",
        "ORDER BY\n",
        "    2 ASC;\n",
        "\"\"\").show(10, False)"
      ],
      "metadata": {
        "colab": {
          "base_uri": "https://localhost:8080/"
        },
        "id": "UA4DRMDyXFAH",
        "outputId": "1fa00481-0d56-4a6c-afcf-290c9d33311e"
      },
      "execution_count": null,
      "outputs": [
        {
          "output_type": "stream",
          "name": "stdout",
          "text": [
            "+---------------------------------------------+--------+\n",
            "|pickup_location_zone                         |count(1)|\n",
            "+---------------------------------------------+--------+\n",
            "|Governor's Island/Ellis Island/Liberty Island|1       |\n",
            "|Arden Heights                                |2       |\n",
            "|Rikers Island                                |2       |\n",
            "|Green-Wood Cemetery                          |3       |\n",
            "|Jamaica Bay                                  |3       |\n",
            "|Port Richmond                                |4       |\n",
            "|Rossville/Woodrow                            |4       |\n",
            "|West Brighton                                |4       |\n",
            "|Eltingville/Annadale/Prince's Bay            |4       |\n",
            "|Charleston/Tottenville                       |4       |\n",
            "+---------------------------------------------+--------+\n",
            "only showing top 10 rows\n",
            "\n"
          ]
        }
      ]
    },
    {
      "cell_type": "code",
      "source": [
        "spark.sql(\"\"\" SELECT\n",
        "    z.Zone AS pickup_location_zone,\n",
        "    COUNT(*) AS ride_count\n",
        "FROM yellow_2024_10 y\n",
        "JOIN zones z ON y.PULocationID = z.LocationID\n",
        "GROUP BY z.Zone\n",
        "ORDER BY ride_count ASC;\n",
        "\"\"\").show(10, False)"
      ],
      "metadata": {
        "colab": {
          "base_uri": "https://localhost:8080/"
        },
        "id": "qPCYkVZyZbG2",
        "outputId": "48a4ddc6-cb3b-4b7d-e73c-cdd49035bce3"
      },
      "execution_count": null,
      "outputs": [
        {
          "output_type": "stream",
          "name": "stdout",
          "text": [
            "+---------------------------------------------+----------+\n",
            "|pickup_location_zone                         |ride_count|\n",
            "+---------------------------------------------+----------+\n",
            "|Governor's Island/Ellis Island/Liberty Island|1         |\n",
            "|Arden Heights                                |2         |\n",
            "|Rikers Island                                |2         |\n",
            "|Green-Wood Cemetery                          |3         |\n",
            "|Jamaica Bay                                  |3         |\n",
            "|Port Richmond                                |4         |\n",
            "|Rossville/Woodrow                            |4         |\n",
            "|West Brighton                                |4         |\n",
            "|Eltingville/Annadale/Prince's Bay            |4         |\n",
            "|Charleston/Tottenville                       |4         |\n",
            "+---------------------------------------------+----------+\n",
            "only showing top 10 rows\n",
            "\n"
          ]
        }
      ]
    }
  ]
}